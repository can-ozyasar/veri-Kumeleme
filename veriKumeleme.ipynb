{
 "cells": [
  {
   "cell_type": "markdown",
   "id": "e2af61ca",
   "metadata": {},
   "source": [
    "Diyelim ki firma bizden model istiyor ama verilerimiz yok. veri setimiz hazır değil ama bizim çalışmaya başlamamız gerekiyor  . o zaman kendi  veri setimizi hazırlayabiliriz .yada araştırma sonucu bulabiliriz.\n",
    "\n",
    "BU ÇALIŞMADA ÜRÜN KÜMELEME VE ANALİZİ YAPACAĞIZ "
   ]
  },
  {
   "cell_type": "markdown",
   "id": "f084b02a",
   "metadata": {},
   "source": [
    "### RASTGELE ÜRÜN VERİSİ OLUŞTURMA \n",
    "\n",
    "İSTER GPT LERDEN OLUŞTURULABİLR YADA BİZİM GİBİ BURDAN MANUEL OLUŞTURABİLİRİZ"
   ]
  },
  {
   "cell_type": "markdown",
   "id": "b8bf2da8",
   "metadata": {},
   "source": [
    "### TEMEL VERİ ANALİZİ\n"
   ]
  },
  {
   "cell_type": "markdown",
   "id": "c3b1f09e",
   "metadata": {},
   "source": [
    "### K MEANS KÜMELEME VE T-SNE GÖRSELLEŞTİRME"
   ]
  },
  {
   "cell_type": "markdown",
   "id": "5404eb10",
   "metadata": {},
   "source": [
    "### DENDOGRAM İLE GÖRSELLEŞTİRME"
   ]
  },
  {
   "cell_type": "markdown",
   "id": "0cdfb48b",
   "metadata": {},
   "source": []
  }
 ],
 "metadata": {
  "language_info": {
   "name": "python"
  }
 },
 "nbformat": 4,
 "nbformat_minor": 5
}
